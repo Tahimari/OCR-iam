{
 "cells": [
  {
   "cell_type": "markdown",
   "metadata": {
    "id": "m-8l9BIwNXcW"
   },
   "source": [
    "### Klasyfikacja całych słów\n",
    "Kolejnym zagadnieniem jakie poruszym jest rozpoznawanie całych słów zapisanych pismem odręcznym. \n",
    "\n",
    "Rozpoczynam od załadowania niezbędnych bibliotek. Tak samo jako poprzednio będziemy używać biblioteki \"PyTorch\" do trenowania sieci neuronowej, która posłuży do rozpoznawania pismam odręcznego pochodzących ze zbioru odręcznie zapisanych formularzy Iam.\n",
    "\n",
    "Do przygotowania zbioru danych użyjemy biblioteki pochodzącej ze zbioru AWS o nazwie OCR. Dzięki tej bibliotece możemy wczytać zbiór i przygotować go do przetwarzania. Ważne jest w pliku credentials.json określić dane dostępowe do api serwisu iam."
   ]
  },
  {
   "cell_type": "code",
   "execution_count": 5,
   "metadata": {
    "colab": {
     "base_uri": "https://localhost:8080/",
     "height": 409
    },
    "id": "NzltG92QNIxH",
    "outputId": "4bf4cfe0-a51c-4294-d575-7bdd7afe8a33"
   },
   "outputs": [],
   "source": [
    "### Import  bibliotek\n",
    "\n",
    "from ocr.utils.iam_dataset import IAMDataset, resize_image, crop_image, crop_handwriting_page"
   ]
  },
  {
   "cell_type": "markdown",
   "metadata": {},
   "source": [
    "#### Przygotowanie zbioru danych.\n",
    "Zbiór pobieramy z serwera iam. Następnie losowo wybieramy 4 formularze do analizy."
   ]
  },
  {
   "cell_type": "code",
   "execution_count": null,
   "metadata": {},
   "outputs": [
    {
     "name": "stdout",
     "output_type": "stream",
     "text": [
      "Downloading xml.tgz: \n",
      "Completed: [--------------------------------------- ]  99%\n",
      "Downloading formsA-D.tgz: \n",
      "Completed: [--------------------------------------- ]  99%Completed: [----                                    ]  11%Completed: [-----                                   ]  13%Completed: [------                                  ]  15%Completed: [---------                               ]  23%Completed: [-----------                             ]  28%Completed: [------------                            ]  30%Completed: [------------                            ]  30%Completed: [----------------                        ]  41%Completed: [------------------                      ]  45%Completed: [--------------------                    ]  50%Completed: [----------------------                  ]  55%Completed: [-----------------------                 ]  58%Completed: [------------------------                ]  62%Completed: [--------------------------              ]  67%Completed: [---------------------------             ]  69%Completed: [----------------------------            ]  70%Completed: [-----------------------------           ]  74%Completed: [------------------------------          ]  75%Completed: [-------------------------------         ]  78%Completed: [--------------------------------        ]  81%Completed: [--------------------------------------  ]  95%Completed: [--------------------------------------  ]  97%Completed: [--------------------------------------- ]  99%\n",
      "Downloading formsE-H.tgz: \n",
      "Completed: [---------------                         ]  38%Completed: [------                                  ]  15%Completed: [-------                                 ]  19%Completed: [---------                               ]  24%Completed: [----------                              ]  25%Completed: [----------                              ]  25%Completed: [-----------                             ]  28%Completed: [------------                            ]  30%Completed: [------------                            ]  32%Completed: [--------------                          ]  35%Completed: [--------------                          ]  37%"
     ]
    }
   ],
   "source": [
    "test_ds = IAMDataset(\"form_original\", train=False)"
   ]
  },
  {
   "cell_type": "code",
   "execution_count": null,
   "metadata": {},
   "outputs": [],
   "source": [
    "random.seed(1)"
   ]
  },
  {
   "cell_type": "code",
   "execution_count": null,
   "metadata": {},
   "outputs": [],
   "source": [
    "figs_to_plot = 4\n",
    "images = []\n",
    "\n",
    "n = 0\n",
    "for i in range(0, figs_to_plot):\n",
    "    n = int(random.random()*len(test_ds))\n",
    "    image, _ = test_ds[n]\n",
    "    images.append(image)"
   ]
  },
  {
   "cell_type": "code",
   "execution_count": null,
   "metadata": {},
   "outputs": [],
   "source": [
    "fig, axs = plt.subplots(int(len(images)/2), 2, figsize=(15, 10 * len(images)/2))\n",
    "for i, image in enumerate(images):\n",
    "    y, x = int(i/2), int(i%2)\n",
    "    axs[y, x].imshow(image, cmap='Greys_r')\n",
    "    axs[y, x].axis('off')"
   ]
  },
  {
   "cell_type": "markdown",
   "metadata": {},
   "source": [
    "#### Segmentacja akaptiów\n",
    "\n",
    "Mając obraz formularza w zbiorze danych IAM, należy przewidzieć obasz w którym występuje tekst pisany odręcznie. Model został przeszkolony przy użyciu https://github.com/ThomasDelteil/Gluon_OCR_LSTM_CTC/blob/master/paragraph_segmentation_dcnn.py, a przykład jest przedstawiony w https://github.com/ThomasDelteil/Gluon_OCR_LSTM_CTC/blob/master/paragraph_ipnnn.segment."
   ]
  },
  {
   "cell_type": "code",
   "execution_count": null,
   "metadata": {},
   "outputs": [],
   "source": []
  }
 ],
 "metadata": {
  "accelerator": "GPU",
  "colab": {
   "collapsed_sections": [],
   "name": "OCR-iam.ipynb",
   "provenance": []
  },
  "kernelspec": {
   "display_name": "OCR-iam",
   "language": "python",
   "name": "ocr-iam"
  },
  "language_info": {
   "codemirror_mode": {
    "name": "ipython",
    "version": 3
   },
   "file_extension": ".py",
   "mimetype": "text/x-python",
   "name": "python",
   "nbconvert_exporter": "python",
   "pygments_lexer": "ipython3",
   "version": "3.9.6"
  }
 },
 "nbformat": 4,
 "nbformat_minor": 4
}
