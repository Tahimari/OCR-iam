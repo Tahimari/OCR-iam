{
 "cells": [
  {
   "cell_type": "markdown",
   "id": "bd26a04e-03ce-46f5-b425-63bf51372ce8",
   "metadata": {},
   "source": [
    "#### Rozpoznawanie tekstu\n",
    "\n",
    "Od zdjęcia do znaków"
   ]
  },
  {
   "cell_type": "code",
   "execution_count": 1,
   "id": "4feb875d-d3cb-4ced-b681-116cee777d5b",
   "metadata": {},
   "outputs": [],
   "source": [
    "import json\n",
    "import multiprocessing\n",
    "import os\n",
    "import random\n",
    "import string\n",
    "import time\n",
    "\n",
    "import matplotlib.pyplot as plt\n",
    "from mxboard import SummaryWriter\n",
    "import mxnet as mx\n",
    "from mxnet import nd, autograd, gluon\n",
    "from mxnet.gluon.model_zoo.vision import resnet34_v1\n",
    "import numpy as np\n",
    "from skimage import transform as skimage_tf\n",
    "from skimage import exposure\n",
    "from tqdm import tqdm\n",
    "np.seterr(all='raise')\n",
    "\n",
    "mx.random.seed(1)\n",
    "\n",
    "from ocr.utils.iam_dataset import IAMDataset\n",
    "from ocr.utils.draw_text_on_image import draw_text_on_image\n",
    "\n",
    "alphabet_encoding = r' !\"#&\\'()*+,-./0123456789:;?ABCDEFGHIJKLMNOPQRSTUVWXYZabcdefghijklmnopqrstuvwxyz'\n",
    "alphabet_dict = {alphabet_encoding[i]:i for i in range(len(alphabet_encoding))}"
   ]
  },
  {
   "cell_type": "markdown",
   "id": "187140b7-5d25-4b39-8df0-8a0d0d95b003",
   "metadata": {},
   "source": [
    "#### Definicja sieci\n",
    "Zdefiniuj CNN-biLSTM do rozpoznawania pisma ręcznego.\n",
    "Cechy obrazu na dwóch poziomach zostały uzyskane z obciętego Resnet34 i poddane próbkowaniu w dół za pomocą prostego CNN.\n",
    "Dwa zestawy funkcji obrazu zostały wprowadzone do dwóch oddzielnych funkcji biLSTM do rozpoznawania pisma ręcznego."
   ]
  },
  {
   "cell_type": "code",
   "execution_count": 2,
   "id": "7cd6823f-5edb-4aae-82e6-945f5483f747",
   "metadata": {},
   "outputs": [],
   "source": [
    "class EncoderLayer(gluon.HybridBlock):\n",
    "    '''\n",
    "    The encoder layer takes the image features from a CNN. The image features are transposed so that the LSTM \n",
    "    slices of the image features can be sequentially fed into the LSTM from left to right (and back via the\n",
    "    bidirectional LSTM). \n",
    "    '''\n",
    "    def __init__(self, hidden_states=200, rnn_layers=1, max_seq_len=100, **kwargs):\n",
    "        self.max_seq_len = max_seq_len\n",
    "        super(EncoderLayer, self).__init__(**kwargs)\n",
    "        with self.name_scope():\n",
    "            self.lstm = mx.gluon.rnn.LSTM(hidden_states, rnn_layers, bidirectional=True)\n",
    "            \n",
    "    def hybrid_forward(self, F, x):\n",
    "        x = x.transpose((0, 3, 1, 2))\n",
    "        x = x.flatten()\n",
    "        x = x.split(num_outputs=self.max_seq_len, axis=1) # (SEQ_LEN, N, CHANNELS)\n",
    "        x = F.concat(*[elem.expand_dims(axis=0) for elem in x], dim=0)\n",
    "        x = self.lstm(x)\n",
    "        x = x.transpose((1, 0, 2)) #(N, SEQ_LEN, HIDDEN_UNITS)\n",
    "        return x\n",
    "\n",
    "class CNNBiLSTM(gluon.HybridBlock):\n",
    "    '''\n",
    "    The CNN-biLSTM to recognise handwriting text given an image of handwriten text.\n",
    "    Parameters\n",
    "    ----------\n",
    "    num_downsamples: int, default 2\n",
    "        The number of times to downsample the image features. Each time the features are downsampled, a new LSTM\n",
    "        is created. \n",
    "    resnet_layer_id: int, default 4\n",
    "        The layer ID to obtain features from the resnet34\n",
    "    lstm_hidden_states: int, default 200\n",
    "        The number of hidden states used in the LSTMs\n",
    "    lstm_layers: int, default 1\n",
    "        The number of layers of LSTMs to use\n",
    "    '''\n",
    "    FEATURE_EXTRACTOR_FILTER = 64\n",
    "    def __init__(self, num_downsamples=2, resnet_layer_id=4, rnn_hidden_states=200, rnn_layers=1, max_seq_len=100, ctx=mx.gpu(0), **kwargs):\n",
    "        super(CNNBiLSTM, self).__init__(**kwargs)\n",
    "        self.p_dropout = 0.5\n",
    "        self.num_downsamples = num_downsamples\n",
    "        self.max_seq_len = max_seq_len\n",
    "        self.ctx = ctx\n",
    "        with self.name_scope():\n",
    "            self.body = self.get_body(resnet_layer_id=resnet_layer_id)\n",
    "\n",
    "            self.encoders = gluon.nn.HybridSequential()\n",
    "            with self.encoders.name_scope():\n",
    "                for i in range(self.num_downsamples):\n",
    "                    encoder = self.get_encoder(rnn_hidden_states=rnn_hidden_states, rnn_layers=rnn_layers, max_seq_len=max_seq_len)\n",
    "                    self.encoders.add(encoder)\n",
    "            self.decoder = self.get_decoder()\n",
    "            self.downsampler = self.get_down_sampler(self.FEATURE_EXTRACTOR_FILTER)\n",
    "\n",
    "    def get_down_sampler(self, num_filters):\n",
    "        '''\n",
    "        Creates a two-stacked Conv-BatchNorm-Relu and then a pooling layer to\n",
    "        downsample the image features by half.\n",
    "        \n",
    "        Parameters\n",
    "        ----------\n",
    "        num_filters: int\n",
    "            To select the number of filters in used the downsampling convolutional layer.\n",
    "        Returns\n",
    "        -------\n",
    "        network: gluon.nn.HybridSequential\n",
    "            The downsampler network that decreases the width and height of the image features by half.\n",
    "        \n",
    "        '''\n",
    "        out = gluon.nn.HybridSequential()\n",
    "        with out.name_scope():\n",
    "            for _ in range(2):\n",
    "                out.add(gluon.nn.Conv2D(num_filters, 3, strides=1, padding=1))\n",
    "                out.add(gluon.nn.BatchNorm(in_channels=num_filters))\n",
    "                out.add(gluon.nn.Activation('relu'))\n",
    "            out.add(gluon.nn.MaxPool2D(2))\n",
    "            out.collect_params().initialize(mx.init.Normal(), ctx=self.ctx)\n",
    "        out.hybridize()\n",
    "        return out\n",
    "\n",
    "    def get_body(self, resnet_layer_id):\n",
    "        '''\n",
    "        Create the feature extraction network based on resnet34.\n",
    "        The first layer of the res-net is converted into grayscale by averaging the weights of the 3 channels\n",
    "        of the original resnet.\n",
    "        \n",
    "        Parameters\n",
    "        ----------\n",
    "        resnet_layer_id: int\n",
    "            The resnet_layer_id specifies which layer to take from \n",
    "            the bottom of the network.\n",
    "        Returns\n",
    "        -------\n",
    "        network: gluon.nn.HybridSequential\n",
    "            The body network for feature extraction based on resnet\n",
    "        '''\n",
    "        \n",
    "        pretrained = resnet34_v1(pretrained=True, ctx=self.ctx)\n",
    "        pretrained_2 = resnet34_v1(pretrained=True, ctx=mx.cpu(0))\n",
    "        first_weights = pretrained_2.features[0].weight.data().mean(axis=1).expand_dims(axis=1)\n",
    "        # First weights could be replaced with individual channels.\n",
    "        \n",
    "        body = gluon.nn.HybridSequential()\n",
    "        with body.name_scope():\n",
    "            first_layer = gluon.nn.Conv2D(channels=64, kernel_size=(7, 7), padding=(3, 3), strides=(2, 2), in_channels=1, use_bias=False)\n",
    "            first_layer.initialize(mx.init.Xavier(), ctx=self.ctx)\n",
    "            first_layer.weight.set_data(first_weights)\n",
    "            body.add(first_layer)\n",
    "            body.add(*pretrained.features[1:-resnet_layer_id])\n",
    "        return body\n",
    "\n",
    "    def get_encoder(self, rnn_hidden_states, rnn_layers, max_seq_len):\n",
    "        '''\n",
    "        Creates an LSTM to learn the sequential component of the image features.\n",
    "        \n",
    "        Parameters\n",
    "        ----------\n",
    "        \n",
    "        rnn_hidden_states: int\n",
    "            The number of hidden states in the RNN\n",
    "        \n",
    "        rnn_layers: int\n",
    "            The number of layers to stack the RNN\n",
    "        Returns\n",
    "        -------\n",
    "        \n",
    "        network: gluon.nn.Sequential\n",
    "            The encoder network to learn the sequential information of the image features\n",
    "        '''\n",
    "\n",
    "        encoder = gluon.nn.HybridSequential()\n",
    "        with encoder.name_scope():\n",
    "            encoder.add(EncoderLayer(hidden_states=rnn_hidden_states, rnn_layers=rnn_layers, max_seq_len=max_seq_len))\n",
    "            encoder.add(gluon.nn.Dropout(self.p_dropout))\n",
    "        encoder.collect_params().initialize(mx.init.Xavier(), ctx=self.ctx)\n",
    "        return encoder\n",
    "    \n",
    "    def get_decoder(self):\n",
    "        '''\n",
    "        Creates a network to convert the output of the encoder into characters.\n",
    "        '''\n",
    "\n",
    "        alphabet_size = len(alphabet_encoding) + 1\n",
    "        decoder = mx.gluon.nn.Dense(units=alphabet_size, flatten=False)\n",
    "        decoder.collect_params().initialize(mx.init.Xavier(), ctx=self.ctx)\n",
    "        return decoder\n",
    "\n",
    "    def hybrid_forward(self, F, x):\n",
    "        features = self.body(x)\n",
    "        hidden_states = []\n",
    "        hs = self.encoders[0](features)\n",
    "        hidden_states.append(hs)\n",
    "        for i, _ in enumerate(range(self.num_downsamples - 1)):\n",
    "            features = self.downsampler(features)\n",
    "            hs = self.encoders[i+1](features)\n",
    "            hidden_states.append(hs)\n",
    "        hs = F.concat(*hidden_states, dim=2)\n",
    "        output = self.decoder(hs)\n",
    "        return output"
   ]
  },
  {
   "cell_type": "markdown",
   "id": "4610bfbf-a6a4-4e56-8694-43ea4c90d1e5",
   "metadata": {},
   "source": [
    "#### Funkcja pomocnicza do trenowania sieci"
   ]
  },
  {
   "cell_type": "code",
   "execution_count": 3,
   "id": "0718591d-c326-424b-a5b1-56d5ec2740de",
   "metadata": {},
   "outputs": [],
   "source": [
    "def transform(image, label):\n",
    "    '''\n",
    "    This function resizes the input image and converts so that it could be fed into the network.\n",
    "    Furthermore, the label (text) is one-hot encoded.\n",
    "    '''\n",
    "    image = np.expand_dims(image, axis=0).astype(np.float32)\n",
    "    if image[0, 0, 0] > 1:\n",
    "        image = image/255.\n",
    "    image = (image - 0.942532484060557) / 0.15926149044640417\n",
    "    label_encoded = np.zeros(max_seq_len, dtype=np.float32)-1\n",
    "    i = 0\n",
    "    for word in label:\n",
    "        word = word.replace(\"&quot\", r'\"')\n",
    "        word = word.replace(\"&amp\", r'&')\n",
    "        word = word.replace('\";', '\\\"')\n",
    "        for letter in word:\n",
    "            label_encoded[i] = alphabet_dict[letter]\n",
    "            i += 1\n",
    "    return image, label_encoded\n",
    "\n",
    "def augment_transform(image, label):\n",
    "    '''\n",
    "    This function randomly:\n",
    "        - translates the input image by +-width_range and +-height_range (percentage).\n",
    "        - scales the image by y_scaling and x_scaling (percentage)\n",
    "        - shears the image by shearing_factor (radians)\n",
    "    '''\n",
    "    \n",
    "    ty = random.uniform(-random_y_translation, random_y_translation)\n",
    "    tx = random.uniform(-random_x_translation, random_x_translation)\n",
    "\n",
    "    sx = random.uniform(1. - random_y_scaling, 1. + random_y_scaling)\n",
    "    sy = random.uniform(1. - random_x_scaling, 1. + random_x_scaling)\n",
    "\n",
    "    s = random.uniform(-random_shearing, random_shearing)\n",
    "    \n",
    "    gamma = random.uniform(0.001, 2)\n",
    "    image = exposure.adjust_gamma(image, gamma)\n",
    "    st = skimage_tf.AffineTransform(scale=(sx, sy),\n",
    "                                    shear=s,\n",
    "                                    translation=(tx*image.shape[1], ty*image.shape[0]))\n",
    "    augmented_image = skimage_tf.warp(image, st, cval=1.0)\n",
    "    \n",
    "    return transform(augmented_image*255., label)\n",
    "\n",
    "\n",
    "def decode(prediction):\n",
    "    '''\n",
    "    Returns the string given one-hot encoded vectors.\n",
    "    '''\n",
    "\n",
    "    results = []\n",
    "    for word in prediction:\n",
    "        result = []\n",
    "        for i, index in enumerate(word):\n",
    "            if i < len(word) - 1 and word[i] == word[i+1] and word[-1] != -1: #Hack to decode label as well\n",
    "                continue\n",
    "            if index == len(alphabet_dict) or index == -1:\n",
    "                continue\n",
    "            else:\n",
    "                result.append(alphabet_encoding[int(index)])\n",
    "        results.append(result)\n",
    "    words = [''.join(word) for word in results]\n",
    "    return words"
   ]
  },
  {
   "cell_type": "code",
   "execution_count": 4,
   "id": "2c427a90-13ed-4421-9ffe-c2e36f3b3a1c",
   "metadata": {},
   "outputs": [],
   "source": [
    "def run_epoch(e, network, dataloader, trainer, log_dir, print_name, is_train):\n",
    "    total_loss = nd.zeros(1, ctx)\n",
    "    for i, (x, y) in enumerate(dataloader):\n",
    "        x = x.as_in_context(ctx)\n",
    "        y = y.as_in_context(ctx)\n",
    "\n",
    "        with autograd.record(train_mode=is_train):\n",
    "            output = network(x)\n",
    "            loss_ctc = ctc_loss(output, y)\n",
    "\n",
    "        if is_train:\n",
    "            loss_ctc.backward()\n",
    "            trainer.step(x.shape[0])\n",
    "\n",
    "        if i == 0 and e % send_image_every_n == 0 and e > 0:\n",
    "            predictions = output.softmax().topk(axis=2).asnumpy()\n",
    "            decoded_text = decode(predictions)\n",
    "            output_image = draw_text_on_image(x.asnumpy(), decoded_text)\n",
    "            output_image[output_image < 0] = 0\n",
    "            output_image[output_image > 1] = 1\n",
    "            print(\"{} first decoded text = {}\".format(print_name, decoded_text[0]))\n",
    "            with SummaryWriter(logdir=log_dir, verbose=False, flush_secs=5) as sw:\n",
    "                sw.add_image('bb_{}_image'.format(print_name), output_image, global_step=e)\n",
    "\n",
    "        total_loss += loss_ctc.mean()\n",
    "\n",
    "    epoch_loss = float(total_loss.asscalar())/len(dataloader)\n",
    "\n",
    "    with SummaryWriter(logdir=log_dir, verbose=False, flush_secs=5) as sw:\n",
    "        sw.add_scalar('loss', {print_name: epoch_loss}, global_step=e)\n",
    "\n",
    "    return epoch_loss"
   ]
  },
  {
   "cell_type": "code",
   "execution_count": 5,
   "id": "cd219436-7e59-49d5-943a-cf28df2ea04e",
   "metadata": {},
   "outputs": [],
   "source": [
    "ctx = mx.gpu()\n",
    "\n",
    "epochs = 120\n",
    "learning_rate = 0.0001\n",
    "batch_size = 32\n",
    "\n",
    "max_seq_len = 160\n",
    "print_every_n = 5\n",
    "send_image_every_n = 5\n",
    "\n",
    "num_downsamples = 2\n",
    "resnet_layer_id = 4\n",
    "lstm_hidden_states = 512\n",
    "lstm_layers = 2\n",
    "\n",
    "random_y_translation, random_x_translation = 0.03, 0.03\n",
    "random_y_scaling, random_x_scaling = 0.1, 0.1\n",
    "random_shearing = 0.7\n",
    "\n",
    "log_dir = \"./logs/handwriting_recognition\"\n",
    "checkpoint_dir = \"model_checkpoint\"\n",
    "checkpoint_name = \"handwriting.params\""
   ]
  },
  {
   "cell_type": "code",
   "execution_count": 6,
   "id": "0c6cee69-0d74-4dad-be5e-1415b7fe8466",
   "metadata": {},
   "outputs": [
    {
     "name": "stdout",
     "output_type": "stream",
     "text": [
      "Number of training samples: 7998\n",
      "Number of testing samples: 1860\n"
     ]
    }
   ],
   "source": [
    "train_ds = IAMDataset(\"line\", output_data=\"text\", train=True)\n",
    "print(\"Number of training samples: {}\".format(len(train_ds)))\n",
    "\n",
    "test_ds = IAMDataset(\"line\", output_data=\"text\", train=False)\n",
    "print(\"Number of testing samples: {}\".format(len(test_ds)))"
   ]
  },
  {
   "cell_type": "code",
   "execution_count": 7,
   "id": "96c6b0a2-583a-46bb-be25-bdb4e7405a87",
   "metadata": {},
   "outputs": [],
   "source": [
    "train_data = gluon.data.DataLoader(train_ds.transform(augment_transform), batch_size, shuffle=True, last_batch=\"rollover\", num_workers=4)\n",
    "test_data = gluon.data.DataLoader(test_ds.transform(transform), batch_size, shuffle=True, last_batch=\"keep\", num_workers=4)#, num_workers=multiprocessing.cpu_count()-2)"
   ]
  },
  {
   "cell_type": "markdown",
   "id": "663d6d2d-bd9e-4c68-b554-973c7b052125",
   "metadata": {},
   "source": [
    "#### Trenowanie"
   ]
  },
  {
   "cell_type": "code",
   "execution_count": 8,
   "id": "237b0027-bdf6-4447-af54-67187f362965",
   "metadata": {},
   "outputs": [],
   "source": [
    "net = CNNBiLSTM(num_downsamples=num_downsamples, resnet_layer_id=resnet_layer_id , rnn_hidden_states=lstm_hidden_states, rnn_layers=lstm_layers, max_seq_len=max_seq_len, ctx=ctx)\n",
    "net.hybridize()"
   ]
  },
  {
   "cell_type": "code",
   "execution_count": 9,
   "id": "73a34f3b-6999-4aec-a03d-72738bc12ecb",
   "metadata": {},
   "outputs": [],
   "source": [
    "ctc_loss = gluon.loss.CTCLoss(weight=0.2)\n",
    "best_test_loss = 10e5"
   ]
  },
  {
   "cell_type": "code",
   "execution_count": 10,
   "id": "30bc6244-a457-4cd1-8cf0-4878c07697b1",
   "metadata": {},
   "outputs": [],
   "source": [
    "if (os.path.isfile(os.path.join(checkpoint_dir, checkpoint_name))):\n",
    "    net.load_parameters(os.path.join(checkpoint_dir, checkpoint_name))\n",
    "    print(\"Parameters loaded\")\n",
    "    print(run_epoch(0, net, test_data, None, log_dir, print_name=\"pretrained\", is_train=False))"
   ]
  },
  {
   "cell_type": "code",
   "execution_count": 11,
   "id": "86250d13-a8dd-4dce-8717-483a98eb6881",
   "metadata": {},
   "outputs": [
    {
     "name": "stdout",
     "output_type": "stream",
     "text": [
      "Parameters loaded\n"
     ]
    },
    {
     "name": "stderr",
     "output_type": "stream",
     "text": [
      "[10:02:26] ../src/operator/nn/./cudnn/./cudnn_algoreg-inl.h:97: Running performance tests to find the best convolution algorithm, this can take a while... (set the environment variable MXNET_CUDNN_AUTOTUNE_DEFAULT to 0 to disable)\n"
     ]
    },
    {
     "ename": "MXNetError",
     "evalue": "Traceback (most recent call last):\n  File \"../src/storage/./pooled_storage_manager.h\", line 161\nMXNetError: cudaMalloc retry failed: out of memory",
     "output_type": "error",
     "traceback": [
      "\u001b[0;31m---------------------------------------------------------------------------\u001b[0m",
      "\u001b[0;31mMXNetError\u001b[0m                                Traceback (most recent call last)",
      "\u001b[0;32m/tmp/ipykernel_29853/3399965614.py\u001b[0m in \u001b[0;36m<module>\u001b[0;34m\u001b[0m\n\u001b[1;32m      3\u001b[0m     \u001b[0mnet\u001b[0m\u001b[0;34m.\u001b[0m\u001b[0mload_parameters\u001b[0m\u001b[0;34m(\u001b[0m\u001b[0mpretrained\u001b[0m\u001b[0;34m,\u001b[0m \u001b[0mctx\u001b[0m\u001b[0;34m=\u001b[0m\u001b[0mctx\u001b[0m\u001b[0;34m)\u001b[0m\u001b[0;34m\u001b[0m\u001b[0;34m\u001b[0m\u001b[0m\n\u001b[1;32m      4\u001b[0m     \u001b[0mprint\u001b[0m\u001b[0;34m(\u001b[0m\u001b[0;34m\"Parameters loaded\"\u001b[0m\u001b[0;34m)\u001b[0m\u001b[0;34m\u001b[0m\u001b[0;34m\u001b[0m\u001b[0m\n\u001b[0;32m----> 5\u001b[0;31m     \u001b[0mprint\u001b[0m\u001b[0;34m(\u001b[0m\u001b[0mrun_epoch\u001b[0m\u001b[0;34m(\u001b[0m\u001b[0;36m0\u001b[0m\u001b[0;34m,\u001b[0m \u001b[0mnet\u001b[0m\u001b[0;34m,\u001b[0m \u001b[0mtest_data\u001b[0m\u001b[0;34m,\u001b[0m \u001b[0;32mNone\u001b[0m\u001b[0;34m,\u001b[0m \u001b[0mlog_dir\u001b[0m\u001b[0;34m,\u001b[0m \u001b[0mprint_name\u001b[0m\u001b[0;34m=\u001b[0m\u001b[0;34m\"pretrained\"\u001b[0m\u001b[0;34m,\u001b[0m \u001b[0mis_train\u001b[0m\u001b[0;34m=\u001b[0m\u001b[0;32mFalse\u001b[0m\u001b[0;34m)\u001b[0m\u001b[0;34m)\u001b[0m\u001b[0;34m\u001b[0m\u001b[0;34m\u001b[0m\u001b[0m\n\u001b[0m",
      "\u001b[0;32m/tmp/ipykernel_29853/3067181571.py\u001b[0m in \u001b[0;36mrun_epoch\u001b[0;34m(e, network, dataloader, trainer, log_dir, print_name, is_train)\u001b[0m\n\u001b[1;32m     25\u001b[0m         \u001b[0mtotal_loss\u001b[0m \u001b[0;34m+=\u001b[0m \u001b[0mloss_ctc\u001b[0m\u001b[0;34m.\u001b[0m\u001b[0mmean\u001b[0m\u001b[0;34m(\u001b[0m\u001b[0;34m)\u001b[0m\u001b[0;34m\u001b[0m\u001b[0;34m\u001b[0m\u001b[0m\n\u001b[1;32m     26\u001b[0m \u001b[0;34m\u001b[0m\u001b[0m\n\u001b[0;32m---> 27\u001b[0;31m     \u001b[0mepoch_loss\u001b[0m \u001b[0;34m=\u001b[0m \u001b[0mfloat\u001b[0m\u001b[0;34m(\u001b[0m\u001b[0mtotal_loss\u001b[0m\u001b[0;34m.\u001b[0m\u001b[0masscalar\u001b[0m\u001b[0;34m(\u001b[0m\u001b[0;34m)\u001b[0m\u001b[0;34m)\u001b[0m\u001b[0;34m/\u001b[0m\u001b[0mlen\u001b[0m\u001b[0;34m(\u001b[0m\u001b[0mdataloader\u001b[0m\u001b[0;34m)\u001b[0m\u001b[0;34m\u001b[0m\u001b[0;34m\u001b[0m\u001b[0m\n\u001b[0m\u001b[1;32m     28\u001b[0m \u001b[0;34m\u001b[0m\u001b[0m\n\u001b[1;32m     29\u001b[0m     \u001b[0;32mwith\u001b[0m \u001b[0mSummaryWriter\u001b[0m\u001b[0;34m(\u001b[0m\u001b[0mlogdir\u001b[0m\u001b[0;34m=\u001b[0m\u001b[0mlog_dir\u001b[0m\u001b[0;34m,\u001b[0m \u001b[0mverbose\u001b[0m\u001b[0;34m=\u001b[0m\u001b[0;32mFalse\u001b[0m\u001b[0;34m,\u001b[0m \u001b[0mflush_secs\u001b[0m\u001b[0;34m=\u001b[0m\u001b[0;36m5\u001b[0m\u001b[0;34m)\u001b[0m \u001b[0;32mas\u001b[0m \u001b[0msw\u001b[0m\u001b[0;34m:\u001b[0m\u001b[0;34m\u001b[0m\u001b[0;34m\u001b[0m\u001b[0m\n",
      "\u001b[0;32m~/miniconda3/envs/handwritten-text-recognition-for-apache-mxnet/lib/python3.8/site-packages/mxnet/ndarray/ndarray.py\u001b[0m in \u001b[0;36masscalar\u001b[0;34m(self)\u001b[0m\n\u001b[1;32m   2583\u001b[0m             \u001b[0;32mraise\u001b[0m \u001b[0mValueError\u001b[0m\u001b[0;34m(\u001b[0m\u001b[0;34m\"The current array is not a scalar\"\u001b[0m\u001b[0;34m)\u001b[0m\u001b[0;34m\u001b[0m\u001b[0;34m\u001b[0m\u001b[0m\n\u001b[1;32m   2584\u001b[0m         \u001b[0;32mif\u001b[0m \u001b[0mself\u001b[0m\u001b[0;34m.\u001b[0m\u001b[0mndim\u001b[0m \u001b[0;34m==\u001b[0m \u001b[0;36m1\u001b[0m\u001b[0;34m:\u001b[0m\u001b[0;34m\u001b[0m\u001b[0;34m\u001b[0m\u001b[0m\n\u001b[0;32m-> 2585\u001b[0;31m             \u001b[0;32mreturn\u001b[0m \u001b[0mself\u001b[0m\u001b[0;34m.\u001b[0m\u001b[0masnumpy\u001b[0m\u001b[0;34m(\u001b[0m\u001b[0;34m)\u001b[0m\u001b[0;34m[\u001b[0m\u001b[0;36m0\u001b[0m\u001b[0;34m]\u001b[0m\u001b[0;34m\u001b[0m\u001b[0;34m\u001b[0m\u001b[0m\n\u001b[0m\u001b[1;32m   2586\u001b[0m         \u001b[0;32melse\u001b[0m\u001b[0;34m:\u001b[0m\u001b[0;34m\u001b[0m\u001b[0;34m\u001b[0m\u001b[0m\n\u001b[1;32m   2587\u001b[0m             \u001b[0;32mreturn\u001b[0m \u001b[0mself\u001b[0m\u001b[0;34m.\u001b[0m\u001b[0masnumpy\u001b[0m\u001b[0;34m(\u001b[0m\u001b[0;34m)\u001b[0m\u001b[0;34m[\u001b[0m\u001b[0;34m(\u001b[0m\u001b[0;34m)\u001b[0m\u001b[0;34m]\u001b[0m\u001b[0;34m\u001b[0m\u001b[0;34m\u001b[0m\u001b[0m\n",
      "\u001b[0;32m~/miniconda3/envs/handwritten-text-recognition-for-apache-mxnet/lib/python3.8/site-packages/mxnet/ndarray/ndarray.py\u001b[0m in \u001b[0;36masnumpy\u001b[0;34m(self)\u001b[0m\n\u001b[1;32m   2561\u001b[0m         \"\"\"\n\u001b[1;32m   2562\u001b[0m         \u001b[0mdata\u001b[0m \u001b[0;34m=\u001b[0m \u001b[0mnp\u001b[0m\u001b[0;34m.\u001b[0m\u001b[0mempty\u001b[0m\u001b[0;34m(\u001b[0m\u001b[0mself\u001b[0m\u001b[0;34m.\u001b[0m\u001b[0mshape\u001b[0m\u001b[0;34m,\u001b[0m \u001b[0mdtype\u001b[0m\u001b[0;34m=\u001b[0m\u001b[0mself\u001b[0m\u001b[0;34m.\u001b[0m\u001b[0mdtype\u001b[0m\u001b[0;34m)\u001b[0m\u001b[0;34m\u001b[0m\u001b[0;34m\u001b[0m\u001b[0m\n\u001b[0;32m-> 2563\u001b[0;31m         check_call(_LIB.MXNDArraySyncCopyToCPU(\n\u001b[0m\u001b[1;32m   2564\u001b[0m             \u001b[0mself\u001b[0m\u001b[0;34m.\u001b[0m\u001b[0mhandle\u001b[0m\u001b[0;34m,\u001b[0m\u001b[0;34m\u001b[0m\u001b[0;34m\u001b[0m\u001b[0m\n\u001b[1;32m   2565\u001b[0m             \u001b[0mdata\u001b[0m\u001b[0;34m.\u001b[0m\u001b[0mctypes\u001b[0m\u001b[0;34m.\u001b[0m\u001b[0mdata_as\u001b[0m\u001b[0;34m(\u001b[0m\u001b[0mctypes\u001b[0m\u001b[0;34m.\u001b[0m\u001b[0mc_void_p\u001b[0m\u001b[0;34m)\u001b[0m\u001b[0;34m,\u001b[0m\u001b[0;34m\u001b[0m\u001b[0;34m\u001b[0m\u001b[0m\n",
      "\u001b[0;32m~/miniconda3/envs/handwritten-text-recognition-for-apache-mxnet/lib/python3.8/site-packages/mxnet/base.py\u001b[0m in \u001b[0;36mcheck_call\u001b[0;34m(ret)\u001b[0m\n\u001b[1;32m    244\u001b[0m     \"\"\"\n\u001b[1;32m    245\u001b[0m     \u001b[0;32mif\u001b[0m \u001b[0mret\u001b[0m \u001b[0;34m!=\u001b[0m \u001b[0;36m0\u001b[0m\u001b[0;34m:\u001b[0m\u001b[0;34m\u001b[0m\u001b[0;34m\u001b[0m\u001b[0m\n\u001b[0;32m--> 246\u001b[0;31m         \u001b[0;32mraise\u001b[0m \u001b[0mget_last_ffi_error\u001b[0m\u001b[0;34m(\u001b[0m\u001b[0;34m)\u001b[0m\u001b[0;34m\u001b[0m\u001b[0;34m\u001b[0m\u001b[0m\n\u001b[0m\u001b[1;32m    247\u001b[0m \u001b[0;34m\u001b[0m\u001b[0m\n\u001b[1;32m    248\u001b[0m \u001b[0;34m\u001b[0m\u001b[0m\n",
      "\u001b[0;31mMXNetError\u001b[0m: Traceback (most recent call last):\n  File \"../src/storage/./pooled_storage_manager.h\", line 161\nMXNetError: cudaMalloc retry failed: out of memory"
     ]
    }
   ],
   "source": [
    "pretrained = \"models/handwriting_line8.params\"\n",
    "if (os.path.isfile(pretrained)):\n",
    "    net.load_parameters(pretrained, ctx=ctx)\n",
    "    print(\"Parameters loaded\")\n",
    "    print(run_epoch(0, net, test_data, None, log_dir, print_name=\"pretrained\", is_train=False))"
   ]
  },
  {
   "cell_type": "code",
   "execution_count": 13,
   "id": "03b0939d-f52b-48e5-b1be-2db11deb8b44",
   "metadata": {},
   "outputs": [],
   "source": [
    "trainer = gluon.Trainer(net.collect_params(), 'adam', {'learning_rate': learning_rate})"
   ]
  },
  {
   "cell_type": "code",
   "execution_count": 14,
   "id": "42951a03-9c41-4b22-a25d-bcfda0cd7d8f",
   "metadata": {},
   "outputs": [
    {
     "ename": "MXNetError",
     "evalue": "Traceback (most recent call last):\n  File \"../src/storage/./pooled_storage_manager.h\", line 161\nMXNetError: cudaMalloc retry failed: out of memory",
     "output_type": "error",
     "traceback": [
      "\u001b[0;31m---------------------------------------------------------------------------\u001b[0m",
      "\u001b[0;31mMXNetError\u001b[0m                                Traceback (most recent call last)",
      "\u001b[0;32m/tmp/ipykernel_29853/4111805581.py\u001b[0m in \u001b[0;36m<module>\u001b[0;34m\u001b[0m\n\u001b[1;32m      1\u001b[0m \u001b[0;32mfor\u001b[0m \u001b[0me\u001b[0m \u001b[0;32min\u001b[0m \u001b[0mrange\u001b[0m\u001b[0;34m(\u001b[0m\u001b[0mepochs\u001b[0m\u001b[0;34m)\u001b[0m\u001b[0;34m:\u001b[0m\u001b[0;34m\u001b[0m\u001b[0;34m\u001b[0m\u001b[0m\n\u001b[0;32m----> 2\u001b[0;31m     \u001b[0mtrain_loss\u001b[0m \u001b[0;34m=\u001b[0m \u001b[0mrun_epoch\u001b[0m\u001b[0;34m(\u001b[0m\u001b[0me\u001b[0m\u001b[0;34m,\u001b[0m \u001b[0mnet\u001b[0m\u001b[0;34m,\u001b[0m \u001b[0mtrain_data\u001b[0m\u001b[0;34m,\u001b[0m \u001b[0mtrainer\u001b[0m\u001b[0;34m,\u001b[0m \u001b[0mlog_dir\u001b[0m\u001b[0;34m,\u001b[0m \u001b[0mprint_name\u001b[0m\u001b[0;34m=\u001b[0m\u001b[0;34m\"train\"\u001b[0m\u001b[0;34m,\u001b[0m \u001b[0mis_train\u001b[0m\u001b[0;34m=\u001b[0m\u001b[0;32mTrue\u001b[0m\u001b[0;34m)\u001b[0m\u001b[0;34m\u001b[0m\u001b[0;34m\u001b[0m\u001b[0m\n\u001b[0m\u001b[1;32m      3\u001b[0m     \u001b[0mtest_loss\u001b[0m \u001b[0;34m=\u001b[0m \u001b[0mrun_epoch\u001b[0m\u001b[0;34m(\u001b[0m\u001b[0me\u001b[0m\u001b[0;34m,\u001b[0m \u001b[0mnet\u001b[0m\u001b[0;34m,\u001b[0m \u001b[0mtest_data\u001b[0m\u001b[0;34m,\u001b[0m \u001b[0mtrainer\u001b[0m\u001b[0;34m,\u001b[0m \u001b[0mlog_dir\u001b[0m\u001b[0;34m,\u001b[0m \u001b[0mprint_name\u001b[0m\u001b[0;34m=\u001b[0m\u001b[0;34m\"test\"\u001b[0m\u001b[0;34m,\u001b[0m \u001b[0mis_train\u001b[0m\u001b[0;34m=\u001b[0m\u001b[0;32mFalse\u001b[0m\u001b[0;34m)\u001b[0m\u001b[0;34m\u001b[0m\u001b[0;34m\u001b[0m\u001b[0m\n\u001b[1;32m      4\u001b[0m     \u001b[0;32mif\u001b[0m \u001b[0mtest_loss\u001b[0m \u001b[0;34m<\u001b[0m \u001b[0mbest_test_loss\u001b[0m\u001b[0;34m:\u001b[0m\u001b[0;34m\u001b[0m\u001b[0;34m\u001b[0m\u001b[0m\n\u001b[1;32m      5\u001b[0m         \u001b[0mprint\u001b[0m\u001b[0;34m(\u001b[0m\u001b[0;34m\"Saving network, previous best test loss {:.6f}, current test loss {:.6f}\"\u001b[0m\u001b[0;34m.\u001b[0m\u001b[0mformat\u001b[0m\u001b[0;34m(\u001b[0m\u001b[0mbest_test_loss\u001b[0m\u001b[0;34m,\u001b[0m \u001b[0mtest_loss\u001b[0m\u001b[0;34m)\u001b[0m\u001b[0;34m)\u001b[0m\u001b[0;34m\u001b[0m\u001b[0;34m\u001b[0m\u001b[0m\n",
      "\u001b[0;32m/tmp/ipykernel_29853/3067181571.py\u001b[0m in \u001b[0;36mrun_epoch\u001b[0;34m(e, network, dataloader, trainer, log_dir, print_name, is_train)\u001b[0m\n\u001b[1;32m     25\u001b[0m         \u001b[0mtotal_loss\u001b[0m \u001b[0;34m+=\u001b[0m \u001b[0mloss_ctc\u001b[0m\u001b[0;34m.\u001b[0m\u001b[0mmean\u001b[0m\u001b[0;34m(\u001b[0m\u001b[0;34m)\u001b[0m\u001b[0;34m\u001b[0m\u001b[0;34m\u001b[0m\u001b[0m\n\u001b[1;32m     26\u001b[0m \u001b[0;34m\u001b[0m\u001b[0m\n\u001b[0;32m---> 27\u001b[0;31m     \u001b[0mepoch_loss\u001b[0m \u001b[0;34m=\u001b[0m \u001b[0mfloat\u001b[0m\u001b[0;34m(\u001b[0m\u001b[0mtotal_loss\u001b[0m\u001b[0;34m.\u001b[0m\u001b[0masscalar\u001b[0m\u001b[0;34m(\u001b[0m\u001b[0;34m)\u001b[0m\u001b[0;34m)\u001b[0m\u001b[0;34m/\u001b[0m\u001b[0mlen\u001b[0m\u001b[0;34m(\u001b[0m\u001b[0mdataloader\u001b[0m\u001b[0;34m)\u001b[0m\u001b[0;34m\u001b[0m\u001b[0;34m\u001b[0m\u001b[0m\n\u001b[0m\u001b[1;32m     28\u001b[0m \u001b[0;34m\u001b[0m\u001b[0m\n\u001b[1;32m     29\u001b[0m     \u001b[0;32mwith\u001b[0m \u001b[0mSummaryWriter\u001b[0m\u001b[0;34m(\u001b[0m\u001b[0mlogdir\u001b[0m\u001b[0;34m=\u001b[0m\u001b[0mlog_dir\u001b[0m\u001b[0;34m,\u001b[0m \u001b[0mverbose\u001b[0m\u001b[0;34m=\u001b[0m\u001b[0;32mFalse\u001b[0m\u001b[0;34m,\u001b[0m \u001b[0mflush_secs\u001b[0m\u001b[0;34m=\u001b[0m\u001b[0;36m5\u001b[0m\u001b[0;34m)\u001b[0m \u001b[0;32mas\u001b[0m \u001b[0msw\u001b[0m\u001b[0;34m:\u001b[0m\u001b[0;34m\u001b[0m\u001b[0;34m\u001b[0m\u001b[0m\n",
      "\u001b[0;32m~/miniconda3/envs/handwritten-text-recognition-for-apache-mxnet/lib/python3.8/site-packages/mxnet/ndarray/ndarray.py\u001b[0m in \u001b[0;36masscalar\u001b[0;34m(self)\u001b[0m\n\u001b[1;32m   2583\u001b[0m             \u001b[0;32mraise\u001b[0m \u001b[0mValueError\u001b[0m\u001b[0;34m(\u001b[0m\u001b[0;34m\"The current array is not a scalar\"\u001b[0m\u001b[0;34m)\u001b[0m\u001b[0;34m\u001b[0m\u001b[0;34m\u001b[0m\u001b[0m\n\u001b[1;32m   2584\u001b[0m         \u001b[0;32mif\u001b[0m \u001b[0mself\u001b[0m\u001b[0;34m.\u001b[0m\u001b[0mndim\u001b[0m \u001b[0;34m==\u001b[0m \u001b[0;36m1\u001b[0m\u001b[0;34m:\u001b[0m\u001b[0;34m\u001b[0m\u001b[0;34m\u001b[0m\u001b[0m\n\u001b[0;32m-> 2585\u001b[0;31m             \u001b[0;32mreturn\u001b[0m \u001b[0mself\u001b[0m\u001b[0;34m.\u001b[0m\u001b[0masnumpy\u001b[0m\u001b[0;34m(\u001b[0m\u001b[0;34m)\u001b[0m\u001b[0;34m[\u001b[0m\u001b[0;36m0\u001b[0m\u001b[0;34m]\u001b[0m\u001b[0;34m\u001b[0m\u001b[0;34m\u001b[0m\u001b[0m\n\u001b[0m\u001b[1;32m   2586\u001b[0m         \u001b[0;32melse\u001b[0m\u001b[0;34m:\u001b[0m\u001b[0;34m\u001b[0m\u001b[0;34m\u001b[0m\u001b[0m\n\u001b[1;32m   2587\u001b[0m             \u001b[0;32mreturn\u001b[0m \u001b[0mself\u001b[0m\u001b[0;34m.\u001b[0m\u001b[0masnumpy\u001b[0m\u001b[0;34m(\u001b[0m\u001b[0;34m)\u001b[0m\u001b[0;34m[\u001b[0m\u001b[0;34m(\u001b[0m\u001b[0;34m)\u001b[0m\u001b[0;34m]\u001b[0m\u001b[0;34m\u001b[0m\u001b[0;34m\u001b[0m\u001b[0m\n",
      "\u001b[0;32m~/miniconda3/envs/handwritten-text-recognition-for-apache-mxnet/lib/python3.8/site-packages/mxnet/ndarray/ndarray.py\u001b[0m in \u001b[0;36masnumpy\u001b[0;34m(self)\u001b[0m\n\u001b[1;32m   2561\u001b[0m         \"\"\"\n\u001b[1;32m   2562\u001b[0m         \u001b[0mdata\u001b[0m \u001b[0;34m=\u001b[0m \u001b[0mnp\u001b[0m\u001b[0;34m.\u001b[0m\u001b[0mempty\u001b[0m\u001b[0;34m(\u001b[0m\u001b[0mself\u001b[0m\u001b[0;34m.\u001b[0m\u001b[0mshape\u001b[0m\u001b[0;34m,\u001b[0m \u001b[0mdtype\u001b[0m\u001b[0;34m=\u001b[0m\u001b[0mself\u001b[0m\u001b[0;34m.\u001b[0m\u001b[0mdtype\u001b[0m\u001b[0;34m)\u001b[0m\u001b[0;34m\u001b[0m\u001b[0;34m\u001b[0m\u001b[0m\n\u001b[0;32m-> 2563\u001b[0;31m         check_call(_LIB.MXNDArraySyncCopyToCPU(\n\u001b[0m\u001b[1;32m   2564\u001b[0m             \u001b[0mself\u001b[0m\u001b[0;34m.\u001b[0m\u001b[0mhandle\u001b[0m\u001b[0;34m,\u001b[0m\u001b[0;34m\u001b[0m\u001b[0;34m\u001b[0m\u001b[0m\n\u001b[1;32m   2565\u001b[0m             \u001b[0mdata\u001b[0m\u001b[0;34m.\u001b[0m\u001b[0mctypes\u001b[0m\u001b[0;34m.\u001b[0m\u001b[0mdata_as\u001b[0m\u001b[0;34m(\u001b[0m\u001b[0mctypes\u001b[0m\u001b[0;34m.\u001b[0m\u001b[0mc_void_p\u001b[0m\u001b[0;34m)\u001b[0m\u001b[0;34m,\u001b[0m\u001b[0;34m\u001b[0m\u001b[0;34m\u001b[0m\u001b[0m\n",
      "\u001b[0;32m~/miniconda3/envs/handwritten-text-recognition-for-apache-mxnet/lib/python3.8/site-packages/mxnet/base.py\u001b[0m in \u001b[0;36mcheck_call\u001b[0;34m(ret)\u001b[0m\n\u001b[1;32m    244\u001b[0m     \"\"\"\n\u001b[1;32m    245\u001b[0m     \u001b[0;32mif\u001b[0m \u001b[0mret\u001b[0m \u001b[0;34m!=\u001b[0m \u001b[0;36m0\u001b[0m\u001b[0;34m:\u001b[0m\u001b[0;34m\u001b[0m\u001b[0;34m\u001b[0m\u001b[0m\n\u001b[0;32m--> 246\u001b[0;31m         \u001b[0;32mraise\u001b[0m \u001b[0mget_last_ffi_error\u001b[0m\u001b[0;34m(\u001b[0m\u001b[0;34m)\u001b[0m\u001b[0;34m\u001b[0m\u001b[0;34m\u001b[0m\u001b[0m\n\u001b[0m\u001b[1;32m    247\u001b[0m \u001b[0;34m\u001b[0m\u001b[0m\n\u001b[1;32m    248\u001b[0m \u001b[0;34m\u001b[0m\u001b[0m\n",
      "\u001b[0;31mMXNetError\u001b[0m: Traceback (most recent call last):\n  File \"../src/storage/./pooled_storage_manager.h\", line 161\nMXNetError: cudaMalloc retry failed: out of memory"
     ]
    }
   ],
   "source": [
    "for e in range(epochs):\n",
    "    train_loss = run_epoch(e, net, train_data, trainer, log_dir, print_name=\"train\", is_train=True)\n",
    "    test_loss = run_epoch(e, net, test_data, trainer, log_dir, print_name=\"test\", is_train=False)    \n",
    "    if test_loss < best_test_loss:\n",
    "        print(\"Saving network, previous best test loss {:.6f}, current test loss {:.6f}\".format(best_test_loss, test_loss))\n",
    "        net.save_parameters(os.path.join(checkpoint_dir, checkpoint_name))\n",
    "        best_test_loss = test_loss\n",
    "        \n",
    "    if e % print_every_n == 0 and e > 0:\n",
    "        print(\"Epoch {0}, train_loss {1:.6f}, test_loss {2:.6f}\".format(e, train_loss, test_loss))"
   ]
  },
  {
   "cell_type": "markdown",
   "id": "38e870a9-9337-4b05-a62a-7cbe118fa0d4",
   "metadata": {},
   "source": [
    "#### Wyniki\n",
    "Wizualnie sprawdź wyniki zestawu danych testowych"
   ]
  },
  {
   "cell_type": "code",
   "execution_count": 16,
   "id": "673d3d2a-840b-47ed-b12b-b343077e795f",
   "metadata": {},
   "outputs": [
    {
     "ename": "MXNetError",
     "evalue": "Traceback (most recent call last):\n  File \"../src/storage/./pooled_storage_manager.h\", line 161\nMXNetError: cudaMalloc retry failed: out of memory",
     "output_type": "error",
     "traceback": [
      "\u001b[0;31m---------------------------------------------------------------------------\u001b[0m",
      "\u001b[0;31mMXNetError\u001b[0m                                Traceback (most recent call last)",
      "\u001b[0;32m/tmp/ipykernel_29853/2603784401.py\u001b[0m in \u001b[0;36m<module>\u001b[0;34m\u001b[0m\n\u001b[1;32m     11\u001b[0m     \u001b[0mimage\u001b[0m \u001b[0;34m=\u001b[0m \u001b[0mimage\u001b[0m\u001b[0;34m.\u001b[0m\u001b[0mexpand_dims\u001b[0m\u001b[0;34m(\u001b[0m\u001b[0maxis\u001b[0m\u001b[0;34m=\u001b[0m\u001b[0;36m0\u001b[0m\u001b[0;34m)\u001b[0m\u001b[0;34m\u001b[0m\u001b[0;34m\u001b[0m\u001b[0m\n\u001b[1;32m     12\u001b[0m     \u001b[0moutput\u001b[0m \u001b[0;34m=\u001b[0m \u001b[0mnet\u001b[0m\u001b[0;34m(\u001b[0m\u001b[0mimage\u001b[0m\u001b[0;34m)\u001b[0m\u001b[0;34m\u001b[0m\u001b[0;34m\u001b[0m\u001b[0m\n\u001b[0;32m---> 13\u001b[0;31m     \u001b[0mpredictions\u001b[0m \u001b[0;34m=\u001b[0m \u001b[0moutput\u001b[0m\u001b[0;34m.\u001b[0m\u001b[0msoftmax\u001b[0m\u001b[0;34m(\u001b[0m\u001b[0;34m)\u001b[0m\u001b[0;34m.\u001b[0m\u001b[0mtopk\u001b[0m\u001b[0;34m(\u001b[0m\u001b[0maxis\u001b[0m\u001b[0;34m=\u001b[0m\u001b[0;36m2\u001b[0m\u001b[0;34m)\u001b[0m\u001b[0;34m.\u001b[0m\u001b[0masnumpy\u001b[0m\u001b[0;34m(\u001b[0m\u001b[0;34m)\u001b[0m\u001b[0;34m\u001b[0m\u001b[0;34m\u001b[0m\u001b[0m\n\u001b[0m\u001b[1;32m     14\u001b[0m     \u001b[0mdecoded_prediction_text\u001b[0m \u001b[0;34m=\u001b[0m \u001b[0mdecode\u001b[0m\u001b[0;34m(\u001b[0m\u001b[0mpredictions\u001b[0m\u001b[0;34m)\u001b[0m\u001b[0;34m[\u001b[0m\u001b[0;36m0\u001b[0m\u001b[0;34m]\u001b[0m\u001b[0;34m.\u001b[0m\u001b[0mreplace\u001b[0m\u001b[0;34m(\u001b[0m\u001b[0;34m\"&quot\"\u001b[0m\u001b[0;34m,\u001b[0m \u001b[0;34m'\\\"'\u001b[0m\u001b[0;34m)\u001b[0m\u001b[0;34m.\u001b[0m\u001b[0mreplace\u001b[0m\u001b[0;34m(\u001b[0m\u001b[0;34m\"&amp\"\u001b[0m\u001b[0;34m,\u001b[0m \u001b[0;34m\"&\"\u001b[0m\u001b[0;34m)\u001b[0m\u001b[0;34m.\u001b[0m\u001b[0mreplace\u001b[0m\u001b[0;34m(\u001b[0m\u001b[0;34m'\";'\u001b[0m\u001b[0;34m,\u001b[0m \u001b[0;34m'\\\"'\u001b[0m\u001b[0;34m)\u001b[0m\u001b[0;34m\u001b[0m\u001b[0;34m\u001b[0m\u001b[0m\n\u001b[1;32m     15\u001b[0m     \u001b[0maxs\u001b[0m\u001b[0;34m[\u001b[0m\u001b[0mi\u001b[0m\u001b[0;34m]\u001b[0m\u001b[0;34m.\u001b[0m\u001b[0mimshow\u001b[0m\u001b[0;34m(\u001b[0m\u001b[0mimage\u001b[0m\u001b[0;34m.\u001b[0m\u001b[0masnumpy\u001b[0m\u001b[0;34m(\u001b[0m\u001b[0;34m)\u001b[0m\u001b[0;34m.\u001b[0m\u001b[0msqueeze\u001b[0m\u001b[0;34m(\u001b[0m\u001b[0;34m)\u001b[0m\u001b[0;34m,\u001b[0m \u001b[0mcmap\u001b[0m\u001b[0;34m=\u001b[0m\u001b[0;34m'Greys_r'\u001b[0m\u001b[0;34m)\u001b[0m\u001b[0;34m\u001b[0m\u001b[0;34m\u001b[0m\u001b[0m\n",
      "\u001b[0;32m~/miniconda3/envs/handwritten-text-recognition-for-apache-mxnet/lib/python3.8/site-packages/mxnet/ndarray/ndarray.py\u001b[0m in \u001b[0;36masnumpy\u001b[0;34m(self)\u001b[0m\n\u001b[1;32m   2561\u001b[0m         \"\"\"\n\u001b[1;32m   2562\u001b[0m         \u001b[0mdata\u001b[0m \u001b[0;34m=\u001b[0m \u001b[0mnp\u001b[0m\u001b[0;34m.\u001b[0m\u001b[0mempty\u001b[0m\u001b[0;34m(\u001b[0m\u001b[0mself\u001b[0m\u001b[0;34m.\u001b[0m\u001b[0mshape\u001b[0m\u001b[0;34m,\u001b[0m \u001b[0mdtype\u001b[0m\u001b[0;34m=\u001b[0m\u001b[0mself\u001b[0m\u001b[0;34m.\u001b[0m\u001b[0mdtype\u001b[0m\u001b[0;34m)\u001b[0m\u001b[0;34m\u001b[0m\u001b[0;34m\u001b[0m\u001b[0m\n\u001b[0;32m-> 2563\u001b[0;31m         check_call(_LIB.MXNDArraySyncCopyToCPU(\n\u001b[0m\u001b[1;32m   2564\u001b[0m             \u001b[0mself\u001b[0m\u001b[0;34m.\u001b[0m\u001b[0mhandle\u001b[0m\u001b[0;34m,\u001b[0m\u001b[0;34m\u001b[0m\u001b[0;34m\u001b[0m\u001b[0m\n\u001b[1;32m   2565\u001b[0m             \u001b[0mdata\u001b[0m\u001b[0;34m.\u001b[0m\u001b[0mctypes\u001b[0m\u001b[0;34m.\u001b[0m\u001b[0mdata_as\u001b[0m\u001b[0;34m(\u001b[0m\u001b[0mctypes\u001b[0m\u001b[0;34m.\u001b[0m\u001b[0mc_void_p\u001b[0m\u001b[0;34m)\u001b[0m\u001b[0;34m,\u001b[0m\u001b[0;34m\u001b[0m\u001b[0;34m\u001b[0m\u001b[0m\n",
      "\u001b[0;32m~/miniconda3/envs/handwritten-text-recognition-for-apache-mxnet/lib/python3.8/site-packages/mxnet/base.py\u001b[0m in \u001b[0;36mcheck_call\u001b[0;34m(ret)\u001b[0m\n\u001b[1;32m    244\u001b[0m     \"\"\"\n\u001b[1;32m    245\u001b[0m     \u001b[0;32mif\u001b[0m \u001b[0mret\u001b[0m \u001b[0;34m!=\u001b[0m \u001b[0;36m0\u001b[0m\u001b[0;34m:\u001b[0m\u001b[0;34m\u001b[0m\u001b[0;34m\u001b[0m\u001b[0m\n\u001b[0;32m--> 246\u001b[0;31m         \u001b[0;32mraise\u001b[0m \u001b[0mget_last_ffi_error\u001b[0m\u001b[0;34m(\u001b[0m\u001b[0;34m)\u001b[0m\u001b[0;34m\u001b[0m\u001b[0;34m\u001b[0m\u001b[0m\n\u001b[0m\u001b[1;32m    247\u001b[0m \u001b[0;34m\u001b[0m\u001b[0m\n\u001b[1;32m    248\u001b[0m \u001b[0;34m\u001b[0m\u001b[0m\n",
      "\u001b[0;31mMXNetError\u001b[0m: Traceback (most recent call last):\n  File \"../src/storage/./pooled_storage_manager.h\", line 161\nMXNetError: cudaMalloc retry failed: out of memory"
     ]
    },
    {
     "data": {
      "image/png": "[encoded data removed]",
      "text/plain": [
       "<Figure size 576x936 with 10 Axes>"
      ]
     },
     "metadata": {
      "needs_background": "light"
     },
     "output_type": "display_data"
    }
   ],
   "source": [
    "figs_to_plot = 10\n",
    "fig, axs = plt.subplots(figs_to_plot, figsize=(8, 1.3*figs_to_plot))\n",
    "\n",
    "for i in range(figs_to_plot):\n",
    "    n = int(random.random()*len(test_ds))\n",
    "    image, actual_label = test_ds[n]\n",
    "    image, _ = transform(image, actual_label)\n",
    "\n",
    "    image = nd.array(image)\n",
    "    image = image.as_in_context(ctx)\n",
    "    image = image.expand_dims(axis=0)\n",
    "    output = net(image)\n",
    "    predictions = output.softmax().topk(axis=2).asnumpy()\n",
    "    decoded_prediction_text = decode(predictions)[0].replace(\"&quot\", '\\\"').replace(\"&amp\", \"&\").replace('\";', '\\\"')\n",
    "    axs[i].imshow(image.asnumpy().squeeze(), cmap='Greys_r')\n",
    "    axs[i].set_title(\"[Label]: {}\\n[Pred]:  {}\".format(actual_label[0].replace(\"&quot\", '\\\"').replace(\"&amp\", \"&\").replace('\";', '\\\"'), decoded_prediction_text),\n",
    "                    fontdict={\"horizontalalignment\":\"left\", \"family\":\"monospace\"}, x=0)\n",
    "    axs[i].tick_params(axis='both',       \n",
    "                       which='both',      \n",
    "                       bottom=False,      \n",
    "                       top=False,         \n",
    "                       left=False,\n",
    "                       right=False,\n",
    "                       labelleft=False,\n",
    "                       labelbottom=False) \n"
   ]
  },
  {
   "cell_type": "markdown",
   "id": "fba5e1db-b70a-436a-882a-41e5a9fca4b9",
   "metadata": {},
   "source": [
    "#### Pisanie przekształconego testowego zestawu danych w celu sprawdzenia odszumiania języka"
   ]
  },
  {
   "cell_type": "code",
   "execution_count": 17,
   "id": "b750762c-eb66-4f29-9c1d-057b78e52b6e",
   "metadata": {},
   "outputs": [],
   "source": [
    "ds_lm = test_ds.transform(transform)"
   ]
  },
  {
   "cell_type": "code",
   "execution_count": 18,
   "id": "646e0cd2-cb9c-4e47-9620-db7dcd3d7519",
   "metadata": {},
   "outputs": [
    {
     "name": "stderr",
     "output_type": "stream",
     "text": [
      "  0%|                                                            | 0/1860 [00:00<?, ?it/s]\n"
     ]
    },
    {
     "ename": "MXNetError",
     "evalue": "Traceback (most recent call last):\n  File \"../src/storage/./pooled_storage_manager.h\", line 161\nMXNetError: cudaMalloc retry failed: out of memory",
     "output_type": "error",
     "traceback": [
      "\u001b[0;31m---------------------------------------------------------------------------\u001b[0m",
      "\u001b[0;31mMXNetError\u001b[0m                                Traceback (most recent call last)",
      "\u001b[0;32m/tmp/ipykernel_29853/3668701054.py\u001b[0m in \u001b[0;36m<module>\u001b[0;34m\u001b[0m\n\u001b[1;32m      5\u001b[0m     \u001b[0mimage\u001b[0m \u001b[0;34m=\u001b[0m \u001b[0mimage\u001b[0m\u001b[0;34m.\u001b[0m\u001b[0mexpand_dims\u001b[0m\u001b[0;34m(\u001b[0m\u001b[0maxis\u001b[0m\u001b[0;34m=\u001b[0m\u001b[0;36m0\u001b[0m\u001b[0;34m)\u001b[0m\u001b[0;34m\u001b[0m\u001b[0;34m\u001b[0m\u001b[0m\n\u001b[1;32m      6\u001b[0m     \u001b[0moutput\u001b[0m \u001b[0;34m=\u001b[0m \u001b[0mnet\u001b[0m\u001b[0;34m(\u001b[0m\u001b[0mimage\u001b[0m\u001b[0;34m)\u001b[0m\u001b[0;34m\u001b[0m\u001b[0;34m\u001b[0m\u001b[0m\n\u001b[0;32m----> 7\u001b[0;31m     \u001b[0mpredictions\u001b[0m \u001b[0;34m=\u001b[0m \u001b[0moutput\u001b[0m\u001b[0;34m.\u001b[0m\u001b[0msoftmax\u001b[0m\u001b[0;34m(\u001b[0m\u001b[0;34m)\u001b[0m\u001b[0;34m.\u001b[0m\u001b[0mtopk\u001b[0m\u001b[0;34m(\u001b[0m\u001b[0maxis\u001b[0m\u001b[0;34m=\u001b[0m\u001b[0;36m2\u001b[0m\u001b[0;34m)\u001b[0m\u001b[0;34m.\u001b[0m\u001b[0masnumpy\u001b[0m\u001b[0;34m(\u001b[0m\u001b[0;34m)\u001b[0m\u001b[0;34m\u001b[0m\u001b[0;34m\u001b[0m\u001b[0m\n\u001b[0m\u001b[1;32m      8\u001b[0m     \u001b[0mdecoded_prediction_text\u001b[0m \u001b[0;34m=\u001b[0m \u001b[0mdecode\u001b[0m\u001b[0;34m(\u001b[0m\u001b[0mpredictions\u001b[0m\u001b[0;34m)\u001b[0m\u001b[0;34m[\u001b[0m\u001b[0;36m0\u001b[0m\u001b[0;34m]\u001b[0m\u001b[0;34m\u001b[0m\u001b[0;34m\u001b[0m\u001b[0m\n\u001b[1;32m      9\u001b[0m     \u001b[0moutputs\u001b[0m\u001b[0;34m.\u001b[0m\u001b[0mappend\u001b[0m\u001b[0;34m(\u001b[0m\u001b[0;34m[\u001b[0m\u001b[0mdecode\u001b[0m\u001b[0;34m(\u001b[0m\u001b[0;34m[\u001b[0m\u001b[0mactual_label\u001b[0m\u001b[0;34m]\u001b[0m\u001b[0;34m)\u001b[0m\u001b[0;34m[\u001b[0m\u001b[0;36m0\u001b[0m\u001b[0;34m]\u001b[0m\u001b[0;34m.\u001b[0m\u001b[0mreplace\u001b[0m\u001b[0;34m(\u001b[0m\u001b[0;34m\"&quot;\"\u001b[0m\u001b[0;34m,\u001b[0m \u001b[0;34m'\"'\u001b[0m\u001b[0;34m)\u001b[0m\u001b[0;34m.\u001b[0m\u001b[0mreplace\u001b[0m\u001b[0;34m(\u001b[0m\u001b[0;34m\"&amp;\"\u001b[0m\u001b[0;34m,\u001b[0m \u001b[0;34m\"&\"\u001b[0m\u001b[0;34m)\u001b[0m\u001b[0;34m,\u001b[0m \u001b[0mdecoded_prediction_text\u001b[0m\u001b[0;34m.\u001b[0m\u001b[0mreplace\u001b[0m\u001b[0;34m(\u001b[0m\u001b[0;34m\"&quot\"\u001b[0m\u001b[0;34m,\u001b[0m \u001b[0;34m'\\\"'\u001b[0m\u001b[0;34m)\u001b[0m\u001b[0;34m.\u001b[0m\u001b[0mreplace\u001b[0m\u001b[0;34m(\u001b[0m\u001b[0;34m\"&amp\"\u001b[0m\u001b[0;34m,\u001b[0m \u001b[0;34m\"&\"\u001b[0m\u001b[0;34m)\u001b[0m\u001b[0;34m.\u001b[0m\u001b[0mreplace\u001b[0m\u001b[0;34m(\u001b[0m\u001b[0;34m'\";'\u001b[0m\u001b[0;34m,\u001b[0m \u001b[0;34m'\\\"'\u001b[0m\u001b[0;34m)\u001b[0m\u001b[0;34m]\u001b[0m\u001b[0;34m)\u001b[0m\u001b[0;34m\u001b[0m\u001b[0;34m\u001b[0m\u001b[0m\n",
      "\u001b[0;32m~/miniconda3/envs/handwritten-text-recognition-for-apache-mxnet/lib/python3.8/site-packages/mxnet/ndarray/ndarray.py\u001b[0m in \u001b[0;36masnumpy\u001b[0;34m(self)\u001b[0m\n\u001b[1;32m   2561\u001b[0m         \"\"\"\n\u001b[1;32m   2562\u001b[0m         \u001b[0mdata\u001b[0m \u001b[0;34m=\u001b[0m \u001b[0mnp\u001b[0m\u001b[0;34m.\u001b[0m\u001b[0mempty\u001b[0m\u001b[0;34m(\u001b[0m\u001b[0mself\u001b[0m\u001b[0;34m.\u001b[0m\u001b[0mshape\u001b[0m\u001b[0;34m,\u001b[0m \u001b[0mdtype\u001b[0m\u001b[0;34m=\u001b[0m\u001b[0mself\u001b[0m\u001b[0;34m.\u001b[0m\u001b[0mdtype\u001b[0m\u001b[0;34m)\u001b[0m\u001b[0;34m\u001b[0m\u001b[0;34m\u001b[0m\u001b[0m\n\u001b[0;32m-> 2563\u001b[0;31m         check_call(_LIB.MXNDArraySyncCopyToCPU(\n\u001b[0m\u001b[1;32m   2564\u001b[0m             \u001b[0mself\u001b[0m\u001b[0;34m.\u001b[0m\u001b[0mhandle\u001b[0m\u001b[0;34m,\u001b[0m\u001b[0;34m\u001b[0m\u001b[0;34m\u001b[0m\u001b[0m\n\u001b[1;32m   2565\u001b[0m             \u001b[0mdata\u001b[0m\u001b[0;34m.\u001b[0m\u001b[0mctypes\u001b[0m\u001b[0;34m.\u001b[0m\u001b[0mdata_as\u001b[0m\u001b[0;34m(\u001b[0m\u001b[0mctypes\u001b[0m\u001b[0;34m.\u001b[0m\u001b[0mc_void_p\u001b[0m\u001b[0;34m)\u001b[0m\u001b[0;34m,\u001b[0m\u001b[0;34m\u001b[0m\u001b[0;34m\u001b[0m\u001b[0m\n",
      "\u001b[0;32m~/miniconda3/envs/handwritten-text-recognition-for-apache-mxnet/lib/python3.8/site-packages/mxnet/base.py\u001b[0m in \u001b[0;36mcheck_call\u001b[0;34m(ret)\u001b[0m\n\u001b[1;32m    244\u001b[0m     \"\"\"\n\u001b[1;32m    245\u001b[0m     \u001b[0;32mif\u001b[0m \u001b[0mret\u001b[0m \u001b[0;34m!=\u001b[0m \u001b[0;36m0\u001b[0m\u001b[0;34m:\u001b[0m\u001b[0;34m\u001b[0m\u001b[0;34m\u001b[0m\u001b[0m\n\u001b[0;32m--> 246\u001b[0;31m         \u001b[0;32mraise\u001b[0m \u001b[0mget_last_ffi_error\u001b[0m\u001b[0;34m(\u001b[0m\u001b[0;34m)\u001b[0m\u001b[0;34m\u001b[0m\u001b[0;34m\u001b[0m\u001b[0m\n\u001b[0m\u001b[1;32m    247\u001b[0m \u001b[0;34m\u001b[0m\u001b[0m\n\u001b[1;32m    248\u001b[0m \u001b[0;34m\u001b[0m\u001b[0m\n",
      "\u001b[0;31mMXNetError\u001b[0m: Traceback (most recent call last):\n  File \"../src/storage/./pooled_storage_manager.h\", line 161\nMXNetError: cudaMalloc retry failed: out of memory"
     ]
    }
   ],
   "source": [
    "outputs = []\n",
    "for image, actual_label in tqdm(ds_lm):\n",
    "    image = nd.array(image)\n",
    "    image = image.as_in_context(ctx)\n",
    "    image = image.expand_dims(axis=0)\n",
    "    output = net(image)\n",
    "    predictions = output.softmax().topk(axis=2).asnumpy()\n",
    "    decoded_prediction_text = decode(predictions)[0]\n",
    "    outputs.append([decode([actual_label])[0].replace(\"&quot;\", '\"').replace(\"&amp;\", \"&\"), decoded_prediction_text.replace(\"&quot\", '\\\"').replace(\"&amp\", \"&\").replace('\";', '\\\"')])"
   ]
  },
  {
   "cell_type": "code",
   "execution_count": null,
   "id": "d40a9103-9a36-4344-ad03-b07c2f74510d",
   "metadata": {},
   "outputs": [],
   "source": [
    "json.dump(outputs, open('dataset/typo/validating.json', 'w'))"
   ]
  },
  {
   "cell_type": "code",
   "execution_count": null,
   "id": "4f2ed956-bf53-4f93-aaba-5f82c31af75e",
   "metadata": {},
   "outputs": [],
   "source": [
    "ds_lm = train_ds\n",
    "with open('dataset/typo/text_train.txt', 'w') as f:\n",
    "    for _, actual_label in ds_lm:\n",
    "        f.write(str(actual_label[0].replace(\"&quot;\", '\"').replace(\"&amp;\", \"&\"))+\"\\n\")"
   ]
  }
 ],
 "metadata": {
  "kernelspec": {
   "display_name": "OCR-iam",
   "language": "python",
   "name": "ocr-iam"
  },
  "language_info": {
   "codemirror_mode": {
    "name": "ipython",
    "version": 3
   },
   "file_extension": ".py",
   "mimetype": "text/x-python",
   "name": "python",
   "nbconvert_exporter": "python",
   "pygments_lexer": "ipython3",
   "version": "3.8.5"
  }
 },
 "nbformat": 4,
 "nbformat_minor": 5
}
